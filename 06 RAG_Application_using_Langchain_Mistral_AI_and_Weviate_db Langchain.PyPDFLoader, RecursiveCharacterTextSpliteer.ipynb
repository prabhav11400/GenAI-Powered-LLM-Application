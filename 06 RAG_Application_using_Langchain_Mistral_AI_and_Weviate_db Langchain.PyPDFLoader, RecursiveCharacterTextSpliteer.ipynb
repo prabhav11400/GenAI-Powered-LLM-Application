{
  "nbformat": 4,
  "nbformat_minor": 0,
  "metadata": {
    "colab": {
      "provenance": []
    },
    "kernelspec": {
      "name": "python3",
      "display_name": "Python 3"
    },
    "language_info": {
      "name": "python"
    }
  },
  "cells": [
    {
      "cell_type": "code",
      "execution_count": null,
      "metadata": {
        "id": "hP7XAa2Bq89o"
      },
      "outputs": [],
      "source": [
        "!pip install weaviate-client langchain pypdf"
      ]
    },
    {
      "cell_type": "code",
      "source": [
        "!pip install -U langchain-community"
      ],
      "metadata": {
        "id": "lRq_q4xGwgry"
      },
      "execution_count": null,
      "outputs": []
    },
    {
      "cell_type": "markdown",
      "source": [
        "using weaviate as vector database on cloud."
      ],
      "metadata": {
        "id": "QbnzJLN4t0iM"
      }
    },
    {
      "cell_type": "code",
      "source": [
        "from google.colab import userdata\n",
        "API = userdata.get('WEAVIATE_API_KEY')"
      ],
      "metadata": {
        "id": "hS9glVZuv0Qt"
      },
      "execution_count": null,
      "outputs": []
    },
    {
      "cell_type": "code",
      "source": [
        "WEAVIATE_CLUSTER = \"https://b0cjes5t72wfbqnr3t1ua.c0.asia-southeast1.gcp.weaviate.cloud\"\n",
        "WEAVIATE_API_KEY = API"
      ],
      "metadata": {
        "id": "LIK8FSmwr4vP"
      },
      "execution_count": null,
      "outputs": []
    },
    {
      "cell_type": "code",
      "source": [
        "import weaviate\n",
        "from weaviate.classes.init import Auth\n",
        "\n",
        "# Best practice: store your credentials in environment variables\n",
        "weaviate_url = WEAVIATE_CLUSTER\n",
        "weaviate_api_key = WEAVIATE_API_KEY\n",
        "\n",
        "client = weaviate.connect_to_weaviate_cloud(\n",
        "    cluster_url = weaviate_url,  # Replace with your Weaviate Cloud URL\n",
        "    auth_credentials = Auth.api_key(weaviate_api_key),  # Replace with your Weaviate Cloud key\n",
        ")"
      ],
      "metadata": {
        "id": "bPrVM_uwwC9J"
      },
      "execution_count": null,
      "outputs": []
    },
    {
      "cell_type": "code",
      "source": [
        "# fixing unicode error in google colab\n",
        "import locale\n",
        "locale.getpreferredencoding = lambda: \"UTF-8\"\n"
      ],
      "metadata": {
        "id": "tg1ZxmrswXyB"
      },
      "execution_count": null,
      "outputs": []
    },
    {
      "cell_type": "code",
      "source": [
        "!pip install sentence-transformers"
      ],
      "metadata": {
        "colab": {
          "base_uri": "https://localhost:8080/"
        },
        "id": "xTt8KNbqxMUt",
        "outputId": "b9b8becb-3501-4e4c-e249-ef87b8c62a0b"
      },
      "execution_count": null,
      "outputs": [
        {
          "output_type": "stream",
          "name": "stdout",
          "text": [
            "Requirement already satisfied: sentence-transformers in /usr/local/lib/python3.10/dist-packages (3.3.1)\n",
            "Requirement already satisfied: transformers<5.0.0,>=4.41.0 in /usr/local/lib/python3.10/dist-packages (from sentence-transformers) (4.47.1)\n",
            "Requirement already satisfied: tqdm in /usr/local/lib/python3.10/dist-packages (from sentence-transformers) (4.67.1)\n",
            "Requirement already satisfied: torch>=1.11.0 in /usr/local/lib/python3.10/dist-packages (from sentence-transformers) (2.5.1+cu121)\n",
            "Requirement already satisfied: scikit-learn in /usr/local/lib/python3.10/dist-packages (from sentence-transformers) (1.6.0)\n",
            "Requirement already satisfied: scipy in /usr/local/lib/python3.10/dist-packages (from sentence-transformers) (1.13.1)\n",
            "Requirement already satisfied: huggingface-hub>=0.20.0 in /usr/local/lib/python3.10/dist-packages (from sentence-transformers) (0.27.0)\n",
            "Requirement already satisfied: Pillow in /usr/local/lib/python3.10/dist-packages (from sentence-transformers) (11.0.0)\n",
            "Requirement already satisfied: filelock in /usr/local/lib/python3.10/dist-packages (from huggingface-hub>=0.20.0->sentence-transformers) (3.16.1)\n",
            "Requirement already satisfied: fsspec>=2023.5.0 in /usr/local/lib/python3.10/dist-packages (from huggingface-hub>=0.20.0->sentence-transformers) (2024.10.0)\n",
            "Requirement already satisfied: packaging>=20.9 in /usr/local/lib/python3.10/dist-packages (from huggingface-hub>=0.20.0->sentence-transformers) (24.2)\n",
            "Requirement already satisfied: pyyaml>=5.1 in /usr/local/lib/python3.10/dist-packages (from huggingface-hub>=0.20.0->sentence-transformers) (6.0.2)\n",
            "Requirement already satisfied: requests in /usr/local/lib/python3.10/dist-packages (from huggingface-hub>=0.20.0->sentence-transformers) (2.32.3)\n",
            "Requirement already satisfied: typing-extensions>=3.7.4.3 in /usr/local/lib/python3.10/dist-packages (from huggingface-hub>=0.20.0->sentence-transformers) (4.12.2)\n",
            "Requirement already satisfied: networkx in /usr/local/lib/python3.10/dist-packages (from torch>=1.11.0->sentence-transformers) (3.4.2)\n",
            "Requirement already satisfied: jinja2 in /usr/local/lib/python3.10/dist-packages (from torch>=1.11.0->sentence-transformers) (3.1.4)\n",
            "Requirement already satisfied: sympy==1.13.1 in /usr/local/lib/python3.10/dist-packages (from torch>=1.11.0->sentence-transformers) (1.13.1)\n",
            "Requirement already satisfied: mpmath<1.4,>=1.1.0 in /usr/local/lib/python3.10/dist-packages (from sympy==1.13.1->torch>=1.11.0->sentence-transformers) (1.3.0)\n",
            "Requirement already satisfied: numpy>=1.17 in /usr/local/lib/python3.10/dist-packages (from transformers<5.0.0,>=4.41.0->sentence-transformers) (1.26.4)\n",
            "Requirement already satisfied: regex!=2019.12.17 in /usr/local/lib/python3.10/dist-packages (from transformers<5.0.0,>=4.41.0->sentence-transformers) (2024.11.6)\n",
            "Requirement already satisfied: tokenizers<0.22,>=0.21 in /usr/local/lib/python3.10/dist-packages (from transformers<5.0.0,>=4.41.0->sentence-transformers) (0.21.0)\n",
            "Requirement already satisfied: safetensors>=0.4.1 in /usr/local/lib/python3.10/dist-packages (from transformers<5.0.0,>=4.41.0->sentence-transformers) (0.4.5)\n",
            "Requirement already satisfied: joblib>=1.2.0 in /usr/local/lib/python3.10/dist-packages (from scikit-learn->sentence-transformers) (1.4.2)\n",
            "Requirement already satisfied: threadpoolctl>=3.1.0 in /usr/local/lib/python3.10/dist-packages (from scikit-learn->sentence-transformers) (3.5.0)\n",
            "Requirement already satisfied: MarkupSafe>=2.0 in /usr/local/lib/python3.10/dist-packages (from jinja2->torch>=1.11.0->sentence-transformers) (3.0.2)\n",
            "Requirement already satisfied: charset-normalizer<4,>=2 in /usr/local/lib/python3.10/dist-packages (from requests->huggingface-hub>=0.20.0->sentence-transformers) (3.4.0)\n",
            "Requirement already satisfied: idna<4,>=2.5 in /usr/local/lib/python3.10/dist-packages (from requests->huggingface-hub>=0.20.0->sentence-transformers) (3.10)\n",
            "Requirement already satisfied: urllib3<3,>=1.21.1 in /usr/local/lib/python3.10/dist-packages (from requests->huggingface-hub>=0.20.0->sentence-transformers) (2.2.3)\n",
            "Requirement already satisfied: certifi>=2017.4.17 in /usr/local/lib/python3.10/dist-packages (from requests->huggingface-hub>=0.20.0->sentence-transformers) (2024.12.14)\n"
          ]
        }
      ]
    },
    {
      "cell_type": "code",
      "source": [
        "# specify embedding model (using huggingface sentence transformer)\n",
        "from langchain.embeddings import HuggingFaceEmbeddings\n",
        "\n",
        "embedding_model_name = \"sentence-transformers/all-mpnet-base-v2\"\n",
        "\n",
        "#model_kwargs = {\"device\": \"cuda\"}\n",
        "embeddings = HuggingFaceEmbeddings(\n",
        "  model_name=embedding_model_name,\n",
        "  #model_kwargs=model_kwargs\n",
        ")"
      ],
      "metadata": {
        "colab": {
          "base_uri": "https://localhost:8080/"
        },
        "id": "ZbGV4A1IxPxx",
        "outputId": "5e1fe76c-cf5f-4cc3-ad2b-328c446a0fb2"
      },
      "execution_count": null,
      "outputs": [
        {
          "output_type": "stream",
          "name": "stderr",
          "text": [
            "<ipython-input-8-c10546a5fc95>:7: LangChainDeprecationWarning: The class `HuggingFaceEmbeddings` was deprecated in LangChain 0.2.2 and will be removed in 1.0. An updated version of the class exists in the :class:`~langchain-huggingface package and should be used instead. To use it run `pip install -U :class:`~langchain-huggingface` and import as `from :class:`~langchain_huggingface import HuggingFaceEmbeddings``.\n",
            "  embeddings = HuggingFaceEmbeddings(\n",
            "/usr/local/lib/python3.10/dist-packages/huggingface_hub/utils/_auth.py:94: UserWarning: \n",
            "The secret `HF_TOKEN` does not exist in your Colab secrets.\n",
            "To authenticate with the Hugging Face Hub, create a token in your settings tab (https://huggingface.co/settings/tokens), set it as secret in your Google Colab and restart your session.\n",
            "You will be able to reuse this secret in all of your notebooks.\n",
            "Please note that authentication is recommended but still optional to access public models or datasets.\n",
            "  warnings.warn(\n"
          ]
        }
      ]
    },
    {
      "cell_type": "code",
      "source": [
        "# let's check my langchain version, just time pas\n",
        "import langchain\n",
        "langchain.__version__"
      ],
      "metadata": {
        "colab": {
          "base_uri": "https://localhost:8080/",
          "height": 36
        },
        "id": "sAJbj3HXxip3",
        "outputId": "dc06fd8f-84b7-422b-9064-1177a39ef1f1"
      },
      "execution_count": null,
      "outputs": [
        {
          "output_type": "execute_result",
          "data": {
            "text/plain": [
              "'0.3.13'"
            ],
            "application/vnd.google.colaboratory.intrinsic+json": {
              "type": "string"
            }
          },
          "metadata": {},
          "execution_count": 9
        }
      ]
    },
    {
      "cell_type": "code",
      "source": [
        "!pip install rapidocr-onnxruntime  # ye pdf loader me kam aata hai"
      ],
      "metadata": {
        "colab": {
          "base_uri": "https://localhost:8080/"
        },
        "id": "weVicG1gz2M-",
        "outputId": "c9c7b180-33c8-4a97-f686-1c5d30c8f179"
      },
      "execution_count": null,
      "outputs": [
        {
          "output_type": "stream",
          "name": "stdout",
          "text": [
            "Requirement already satisfied: rapidocr-onnxruntime in /usr/local/lib/python3.10/dist-packages (1.4.3)\n",
            "Requirement already satisfied: pyclipper>=1.2.0 in /usr/local/lib/python3.10/dist-packages (from rapidocr-onnxruntime) (1.3.0.post6)\n",
            "Requirement already satisfied: opencv-python>=4.5.1.48 in /usr/local/lib/python3.10/dist-packages (from rapidocr-onnxruntime) (4.10.0.84)\n",
            "Requirement already satisfied: numpy<3.0.0,>=1.19.5 in /usr/local/lib/python3.10/dist-packages (from rapidocr-onnxruntime) (1.26.4)\n",
            "Requirement already satisfied: six>=1.15.0 in /usr/local/lib/python3.10/dist-packages (from rapidocr-onnxruntime) (1.17.0)\n",
            "Requirement already satisfied: Shapely!=2.0.4,>=1.7.1 in /usr/local/lib/python3.10/dist-packages (from rapidocr-onnxruntime) (2.0.6)\n",
            "Requirement already satisfied: PyYAML in /usr/local/lib/python3.10/dist-packages (from rapidocr-onnxruntime) (6.0.2)\n",
            "Requirement already satisfied: Pillow in /usr/local/lib/python3.10/dist-packages (from rapidocr-onnxruntime) (11.0.0)\n",
            "Requirement already satisfied: onnxruntime>=1.7.0 in /usr/local/lib/python3.10/dist-packages (from rapidocr-onnxruntime) (1.20.1)\n",
            "Requirement already satisfied: tqdm in /usr/local/lib/python3.10/dist-packages (from rapidocr-onnxruntime) (4.67.1)\n",
            "Requirement already satisfied: coloredlogs in /usr/local/lib/python3.10/dist-packages (from onnxruntime>=1.7.0->rapidocr-onnxruntime) (15.0.1)\n",
            "Requirement already satisfied: flatbuffers in /usr/local/lib/python3.10/dist-packages (from onnxruntime>=1.7.0->rapidocr-onnxruntime) (24.3.25)\n",
            "Requirement already satisfied: packaging in /usr/local/lib/python3.10/dist-packages (from onnxruntime>=1.7.0->rapidocr-onnxruntime) (24.2)\n",
            "Requirement already satisfied: protobuf in /usr/local/lib/python3.10/dist-packages (from onnxruntime>=1.7.0->rapidocr-onnxruntime) (5.29.2)\n",
            "Requirement already satisfied: sympy in /usr/local/lib/python3.10/dist-packages (from onnxruntime>=1.7.0->rapidocr-onnxruntime) (1.13.1)\n",
            "Requirement already satisfied: humanfriendly>=9.1 in /usr/local/lib/python3.10/dist-packages (from coloredlogs->onnxruntime>=1.7.0->rapidocr-onnxruntime) (10.0)\n",
            "Requirement already satisfied: mpmath<1.4,>=1.1.0 in /usr/local/lib/python3.10/dist-packages (from sympy->onnxruntime>=1.7.0->rapidocr-onnxruntime) (1.3.0)\n"
          ]
        }
      ]
    },
    {
      "cell_type": "code",
      "source": [
        "from langchain.document_loaders import PyPDFLoader\n",
        "loader = PyPDFLoader(\"/content/eqtl_2_pages.pdf\", extract_images=True)\n",
        "pages = loader.load()\n",
        "\n",
        "# be cautious, 15 page pdf me sara 12 gb ran use ho gya tha.. So just keval 2 pages ka pdf loading"
      ],
      "metadata": {
        "id": "miztQwPNxZvt"
      },
      "execution_count": null,
      "outputs": []
    },
    {
      "cell_type": "code",
      "source": [
        "pages"
      ],
      "metadata": {
        "colab": {
          "base_uri": "https://localhost:8080/"
        },
        "id": "omX_OzGRzx0X",
        "outputId": "7a55bf7f-5854-4bfb-87b5-b2a918398c89"
      },
      "execution_count": null,
      "outputs": [
        {
          "output_type": "execute_result",
          "data": {
            "text/plain": [
              "[Document(metadata={'source': '/content/eqtl_2_pages.pdf', 'page': 0}, page_content='eQTLs play critical roles in regulating gene expression and\\nidentifying key regulators in rice\\nChang Liu1, Xiya Zhu1, Jin Zhang1, Meng Shen1, Kai Chen1, Xiangkui Fu1, Lian Ma1, Xuelin Liu1, Chang Zhou1,\\nDao-Xiu Zhou1,2 and Gongwei Wang1,*\\n1National Key Laboratory of Crop Genetic Improvement, Hubei Hongshan Laboratory, Huazhong Agricultural University, Wuhan, China\\n2Institute of Plant Science Paris-Saclay (IPS2), CNRS, INRAE, University Paris-Saclay, Orsay, France\\nReceived 17 June 2022;\\nrevised 11 August 2022;\\naccepted 13 August 2022.\\n*Correspondence (Tel +86-15827398206;\\nfax +86-27-87280916; email\\ngwwang@mail.hzau.edu.cn)\\nKeywords: population RNA-seq,\\nexpression quantitative trait loci\\n(eQTLs), diterpenoid antitoxin, key\\nregulators, transcriptome-wide\\nassociation study (TWAS).\\nSummary\\nThe regulation of gene expression plays an essential role in both the phenotype and adaptation\\nof plants. Transcriptome sequencing enables simultaneous identiﬁcation of exonic variants and\\nquantiﬁcation of gene expression. Here, we sequenced the leaf transcriptomes of 287 rice\\naccessions from around the world and obtained a total of 177 853 high-quality single nucleotide\\npolymorphisms after ﬁltering. Genome-wide association study identiﬁed 44 354 expression\\nquantitative trait loci (eQTLs), which regulate the expression of 13 201 genes, as well as 17 local\\neQTL hotspots and 96 distant eQTL hotspots. Furthermore, a transcriptome-wide association\\nstudy screened 21 candidate genes for starch content in the ﬂag leaves at the heading stage.\\nHS002 was identiﬁed as a signiﬁcant distant eQTL hotspot with ﬁve downstream genes enriched\\nfor diterpene antitoxin synthesis. Co-expression analysis, eQTL analysis, and linkage mapping\\ntogether demonstrated that bHLH026 acts as a key regulator to activate the expression of\\ndownstream genes. The transgenic assay revealed that bHLH026 is an important regulator of\\nditerpenoid antitoxin synthesis and enhances the disease resistance of rice. These ﬁndings\\nimprove our knowledge of the regulatory mechanisms of gene expression variation and complex\\nregulatory networks of the rice genome and will facilitate genetic improvement of cultivated rice\\nvarieties.\\nIntroduction\\nThe phenotypic polymorphism of a species is generally deﬁned by\\ngenetic variations, and the associations between them are\\nestablished through genetic methods such as genome-wide\\nassociation studies (GWAS). (Huang et al., 2012; Wang\\net al., 2015). Gene expression is an essential molecular mecha-\\nnism linking genomic polymorphisms and the phenotype of the\\norganism, and its regulation has long been studied and plays\\nimportant role in the phenotypic variations of various organisms\\n(Fu et al., 2021; Wang et al., 2018). Identiﬁcation of expression\\nquantitative trait loci (eQTLs) that affect gene expression levels is\\ncritical to understanding how genomic variations regulate gene\\nexpression levels, and how information on the genome is\\ntransmitted to morphological phenotypes through the genetic\\ncentral dogma. With the advancement of technology and\\ndecrease in the cost of next-generation sequencing, many natural\\npopulations have been frequently used for eQTL studies (Albert\\nand Kruglyak, 2015;F u et al., 2013;L i et al., 2020; Zhang\\net al., 2017), providing novel and important insights into the\\ngenetic basis of natural variations at the transcriptome level and\\nthe inﬂuence of gene expression in phenotypic variations.\\nVariations in gene expression usually arise from cis- and/or\\ntrans-regulation (Wittkopp et al., 2004). Cis-regulation tends to\\noccur in the vicinity of the target gene and affects gene\\nexpression levels with variations in various cis-acting elements,\\nand cis-regulatory variations are usually detected as local eQTLs in\\nnatural populations. In contrast,trans-regulation acts at a certain\\ndistance, usually in the form of transcription factors (Zhang\\net al., 2017) or certain metabolites (Wang et al., 2018), which\\naffect the expression of downstream genes; besides, trans-\\nregulatory variants are usually detected as distant eQTLs in natural\\npopulations. Previous studies have suggested that local eQTLs\\ntend to explain more variations than distant eQTLs and play a\\nmajor role in determining the variations in gene expression\\n(Cubillos et al., 2012; Kliebenstein, 2009). However, many other\\nstudies have demonstrated that distant regulation at the tran-\\nscriptional level is also important for normal plant development\\n(Narula and Igoshin,2010; van Heyningen and Bickmore,2013;\\nXiang et al., 2014). In addition, hotspots of distant eQTLs (trans-\\nregulation) are thought to comprise key regulators, which\\nregulate the expression of a wide range of development- and/or\\nmetabolism-related downstream genes (Li et al., 2020; Wang\\net al., 2018; Zhang et al., 2017).\\nRice (Oryza sativaL.) is a major cereal crop in Asia, as well as a\\nmajor model crop for genetic improvement. Large amounts of\\nhigh-density genotype data and related high-throughput pheno-\\ntypic data of rice have been accumulated and associated with\\nmany important candidate genes through GWAS approaches\\n(Huang et al., 2012; Wang et al., 2015). GWAS can identify\\ncandidate associations by detecting variations across genotypes\\nand phenotypes, but cannot accurately identify candidate genes\\nand gene functions due to the decay of linkage disequilibrium\\nand limited gene annotation. In recent studies, some researchers\\nhave used methods such as transcriptome-wide association study\\n(TWAS) or Camoco that can combine genomic and transcriptomic\\ndata (Gusev et al., 2016; Schaefer et al., 2018) to more accu-\\nrately predict the candidate genes for phenotypic variations (Tang\\net al., 2021; Walker et al., 2019). eQTLs and co-localized QTLs\\nare equally important for dissecting the genetic architecture of\\nª 2022 The Authors.Plant Biotechnology Journalpublished by Society for Experimental Biology and The Association of Applied Biologists and John Wiley & Sons Ltd.\\nThis is an open access article under the terms of theCreative Commons Attribution-NonCommercial-NoDerivsLicense, which permits use and\\ndistribution in any medium, provided the original work is properly cited, the use is non-commercial and no modiﬁcations or adaptations are made.\\n2357\\nPlant Biotechnology Journal(2022) 20, pp. 2357–2371 doi: 10.1111/pbi.13912\\naab\\nPlant Biotechnology Journal\\nAssociation of Applled Blologists\\nSEB\\nOpen Access\\nSOCTETYTCAEXPERIMENTALSTOLOOY'),\n",
              " Document(metadata={'source': '/content/eqtl_2_pages.pdf', 'page': 1}, page_content='complex traits (Giambartolomei et al., 2014). For example, by\\ncombining GWAS with eQTL data, some studies of the growth\\nand phenotypic variations in poplar (Drostet al., 2010) identiﬁed\\nmultiple candidate genes for lettuce leaf color (Zhang\\net al., 2017), and a combined approach using eQTLs and\\nmetabolic QTLs revealed the history of metabolic breeding in\\ntomato (Zhuet al., 2018). Such studies are expected to enhance\\nthe comprehension of regulatory strategies of plants and facilitate\\na more accurate explanation of related mechanisms.\\nHere, we analysed the transcriptomes of ﬂag leaves at the\\nheading stage in 287 cultivated rice accessions. Subsequently,\\nwe identiﬁed 44 354 eQTLs regulating the expression of\\n13 201 genes, as well as 17 local and 96 distant eQTL\\nhotspots. A key transcription factor, bHLH026, was identiﬁed in\\na distant eQTL hotspot (HS002), which activates the expression\\nof downstream genes related to the synthesis of diterpenoid\\nantitoxins. A transgenic assay revealed that bHLH026 affects\\nthe metabolic level of diterpenoid antitoxins and disease\\nresistance in rice. The ﬁndings will enhance our comprehen-\\nsion of the regulatory mechanisms of transcriptomic varia-\\ntions and the complex regulatory network of the rice genome,\\nand facilitate future genetic improvement of cultivated rice\\nvarieties.\\nResults\\nTranscriptome sequencing and exonic SNP identiﬁcation\\nA total of 287 accessions of O. sativa, which represent both\\nlandraces and elite germplasms from all over the world, were\\nselected from 533 minicore germplasms (Xieet al., 2015) for\\ngenome-wide analysis (Table S1). RNA was extracted from the\\ntop fully expanded leaves at the heading stage from each\\naccession. Transcriptome sequencing generated 11 billion paired-\\nend reads with an average of 38 million reads for each accession\\nafter the removal of low-quality reads. The obtained reads from\\neach accession were mapped to theOryza genome (MSU 7.0)\\n(Kawahara et al., 2013) to quantify the gene expression levels,\\nand the average mapping rate of unique reads was 70.07%\\n(TableS2).\\nBased on the mapping results, 177 853 high-quality single\\nnucleotide polymorphisms (SNPs) were detected using a range of\\nﬁltering approaches. As expected, these SNPs were mostly\\nlocated within genes since they were derived from RNA-seq\\ndata. Then, the SNPs were used to analyse the population\\nstructure of the 287 accessions with Bayesian clustering software.\\nBy progressively increasing the number of clusters (K), the 287\\naccessions were divided into different subpopulations (Figure1a),\\nand the lowest CV error was observed at K = 9 (Figure S1).\\nIndica, japonica, andAus subpopulations were clearly observed at\\nK = 3. Indica was further divided into indica I and indica II\\nsubpopulations. When K = 6, japonica was further divided into\\ntropical japonica and temperate japonica subpopulations.\\nThe maximum-likelihood phylogenetic tree was established and\\nthe phylogenetic relationships among 287 accessions were\\nanalysed (Figure 1b). As a result, indica, japonica, and Aus\\nsubpopulations were located in different branches. Principal\\ncomponent analysis (PCA) also supported the phylogenetic\\nrelationships among different accessions and conﬁrmed the\\nclustering ofindica, japonica, andAus subpopulations (Figure1c).\\nThese results obtained using RNA-seq calling SNPs were consis-\\ntent with the results in previous studies which quantiﬁed the\\npopulation structure ofO. sativa, and conﬁrmed that our panel\\ncould capture abundant genetic variations of rice germplasm (Xie\\net al., 2015; Zhou et al., 2017).\\nGenome-wide mapping of eQTLs\\nExpression quantitative trait loci mapping is a powerful approach\\nto identifying the expression variation of each gene as well as\\nrevealing the regulatory network of genes for corresponding\\ntraits (Fu et al., 2013; Zhang et al., 2017). Here, a quantitative\\nanalysis of transcriptome data identiﬁed 23 325 genes expressed\\nin leaves at the heading stage, accounting for about 41.8% of\\nthe total annotated genes (55 801) in the MSU 7.0 genome.\\nUsing the Fast-LMM software (Lippert et al., 2011), with\\ngenomic SNP data from 287 accessions, the transformed\\nexpression levels of each gene were used for association analysis\\nwith the SNPs in the genome. As a result, the expression of\\n14 562 genes was signiﬁcantly associated with at least one SNP\\nover the Bonferroni-corrected threshold (P = 5.43 9 10/C08;\\na = 0.05). SNPs associated with the same gene were clustered\\ninto one unique eQTL block including at least three SNPs, and\\nthe SNP with the lowestP-value was used to represent this\\nblock. A total of 44 354 eQTLs were identiﬁed from 13 201\\ngenes (Table S3).\\nAccording to the relative positions of genes and their corre-\\nsponding eQTLs in the genome, a strong diagonal enrichment\\ncould be observed (Figure2a). In addition, based on the relative\\ndistance between eQTLs and genes, all eQTLs could be divided\\ninto 19 549 local eQTLs (<100 kb) and 24 805 distant eQTLs\\n(>100 kb or on different chromosomes), and 74.6% of the genes\\nhad local eQTLs (Figure2a, d; Table S3). A comparison of theP-\\nvalues and explanation rate (r2) of SNPs in the association analysis\\nof local and distant eQTLs revealed that local eQTLs have a\\ngreater effect on gene expression variations than distant eQTLs\\n(two-sided Wilcoxon rank sum test,P-value <2.2 9 10/C016;\\nFigure 2b, c ). Therefore, local-regulatory effects may play a\\nleading role in determining the expression variations of most\\ngenes, which is consistent with previous ﬁndings in other\\norganisms (Wang et al., 2018; Zhang et al., 2017). In terms of\\neGenes (genes regulated by eQTL), 9853 eGenes were regulated\\nby local eQTLs; 8427 eGenes were regulated by distant eQTLs;\\nand 5079 eGenes (38.5%) were regulated by both local eQTLs\\nand distant eQTLs (Figure 2d). On average, each eGene corre-\\nsponded to 3.4 eQTLs, and only 4446 eGene (33.7%) were\\nregulated by one single eQTL, while the majority of eGenes were\\nregulated by multiple eQTLs, suggesting that the expression of\\nmost genes in rice is under complex genetic regulation (Fig-\\nure2e). As for the location of local eQTLs relative to their eGenes,\\nmost of the lead SNPs were located in or around the gene body of\\nthe eGenes; interestingly, local eQTLs had two peaks in the 50-\\nand 3 0-regions, and the peak in the 5 0-region was more\\nprominent (Figure S2), indicating that the 50-sequences may play\\na more important role in regulating gene expression or stabilizing\\nmRNA. The distribution of local eQTLs in the 50 promoter region\\nwas observed. It was found that the distribution of local eQTLs\\ngradually decreased as they moved away from the transcription\\nstart site (TSS). About one-third of the local eQTLs fell in the ﬁrst\\n10 kb of the TSS, and 60.5% of them fell in the ﬁrst 30 kb of the\\nTSS (Figure 2f).\\nIdentiﬁcation of local eQTLs and co-regulated gene\\nclusters in rice.\\nAs described above, local eQTLs usually have a greater impact on\\nthe expression variation of eGenes. To further explore the genes\\nª 2022 The Authors.Plant Biotechnology Journalpublished by Society for Experimental Biology and The Association of Applied Biologists and John Wiley & Sons Ltd.,20, 2357–2371\\nChang Liu et al.2358')]"
            ]
          },
          "metadata": {},
          "execution_count": 14
        }
      ]
    },
    {
      "cell_type": "code",
      "source": [
        "# Split text into chunks\n",
        "\n",
        "from langchain.text_splitter import RecursiveCharacterTextSplitter\n",
        "text_splitter = RecursiveCharacterTextSplitter(chunk_size=1000, chunk_overlap=20)\n",
        "docs = text_splitter.split_documents(pages)"
      ],
      "metadata": {
        "id": "EnqaLR_h1Ir4"
      },
      "execution_count": null,
      "outputs": []
    },
    {
      "cell_type": "code",
      "source": [
        "docs"
      ],
      "metadata": {
        "colab": {
          "base_uri": "https://localhost:8080/"
        },
        "id": "861fzRpd2Aam",
        "outputId": "5ad51d66-a427-46ac-d6dc-d2540570d941"
      },
      "execution_count": null,
      "outputs": [
        {
          "output_type": "execute_result",
          "data": {
            "text/plain": [
              "[Document(metadata={'source': '/content/eqtl_2_pages.pdf', 'page': 0}, page_content='eQTLs play critical roles in regulating gene expression and\\nidentifying key regulators in rice\\nChang Liu1, Xiya Zhu1, Jin Zhang1, Meng Shen1, Kai Chen1, Xiangkui Fu1, Lian Ma1, Xuelin Liu1, Chang Zhou1,\\nDao-Xiu Zhou1,2 and Gongwei Wang1,*\\n1National Key Laboratory of Crop Genetic Improvement, Hubei Hongshan Laboratory, Huazhong Agricultural University, Wuhan, China\\n2Institute of Plant Science Paris-Saclay (IPS2), CNRS, INRAE, University Paris-Saclay, Orsay, France\\nReceived 17 June 2022;\\nrevised 11 August 2022;\\naccepted 13 August 2022.\\n*Correspondence (Tel +86-15827398206;\\nfax +86-27-87280916; email\\ngwwang@mail.hzau.edu.cn)\\nKeywords: population RNA-seq,\\nexpression quantitative trait loci\\n(eQTLs), diterpenoid antitoxin, key\\nregulators, transcriptome-wide\\nassociation study (TWAS).\\nSummary\\nThe regulation of gene expression plays an essential role in both the phenotype and adaptation\\nof plants. Transcriptome sequencing enables simultaneous identiﬁcation of exonic variants and'),\n",
              " Document(metadata={'source': '/content/eqtl_2_pages.pdf', 'page': 0}, page_content='quantiﬁcation of gene expression. Here, we sequenced the leaf transcriptomes of 287 rice\\naccessions from around the world and obtained a total of 177 853 high-quality single nucleotide\\npolymorphisms after ﬁltering. Genome-wide association study identiﬁed 44 354 expression\\nquantitative trait loci (eQTLs), which regulate the expression of 13 201 genes, as well as 17 local\\neQTL hotspots and 96 distant eQTL hotspots. Furthermore, a transcriptome-wide association\\nstudy screened 21 candidate genes for starch content in the ﬂag leaves at the heading stage.\\nHS002 was identiﬁed as a signiﬁcant distant eQTL hotspot with ﬁve downstream genes enriched\\nfor diterpene antitoxin synthesis. Co-expression analysis, eQTL analysis, and linkage mapping\\ntogether demonstrated that bHLH026 acts as a key regulator to activate the expression of\\ndownstream genes. The transgenic assay revealed that bHLH026 is an important regulator of'),\n",
              " Document(metadata={'source': '/content/eqtl_2_pages.pdf', 'page': 0}, page_content='diterpenoid antitoxin synthesis and enhances the disease resistance of rice. These ﬁndings\\nimprove our knowledge of the regulatory mechanisms of gene expression variation and complex\\nregulatory networks of the rice genome and will facilitate genetic improvement of cultivated rice\\nvarieties.\\nIntroduction\\nThe phenotypic polymorphism of a species is generally deﬁned by\\ngenetic variations, and the associations between them are\\nestablished through genetic methods such as genome-wide\\nassociation studies (GWAS). (Huang et al., 2012; Wang\\net al., 2015). Gene expression is an essential molecular mecha-\\nnism linking genomic polymorphisms and the phenotype of the\\norganism, and its regulation has long been studied and plays\\nimportant role in the phenotypic variations of various organisms\\n(Fu et al., 2021; Wang et al., 2018). Identiﬁcation of expression\\nquantitative trait loci (eQTLs) that affect gene expression levels is\\ncritical to understanding how genomic variations regulate gene'),\n",
              " Document(metadata={'source': '/content/eqtl_2_pages.pdf', 'page': 0}, page_content='expression levels, and how information on the genome is\\ntransmitted to morphological phenotypes through the genetic\\ncentral dogma. With the advancement of technology and\\ndecrease in the cost of next-generation sequencing, many natural\\npopulations have been frequently used for eQTL studies (Albert\\nand Kruglyak, 2015;F u et al., 2013;L i et al., 2020; Zhang\\net al., 2017), providing novel and important insights into the\\ngenetic basis of natural variations at the transcriptome level and\\nthe inﬂuence of gene expression in phenotypic variations.\\nVariations in gene expression usually arise from cis- and/or\\ntrans-regulation (Wittkopp et al., 2004). Cis-regulation tends to\\noccur in the vicinity of the target gene and affects gene\\nexpression levels with variations in various cis-acting elements,\\nand cis-regulatory variations are usually detected as local eQTLs in\\nnatural populations. In contrast,trans-regulation acts at a certain\\ndistance, usually in the form of transcription factors (Zhang'),\n",
              " Document(metadata={'source': '/content/eqtl_2_pages.pdf', 'page': 0}, page_content='et al., 2017) or certain metabolites (Wang et al., 2018), which\\naffect the expression of downstream genes; besides, trans-\\nregulatory variants are usually detected as distant eQTLs in natural\\npopulations. Previous studies have suggested that local eQTLs\\ntend to explain more variations than distant eQTLs and play a\\nmajor role in determining the variations in gene expression\\n(Cubillos et al., 2012; Kliebenstein, 2009). However, many other\\nstudies have demonstrated that distant regulation at the tran-\\nscriptional level is also important for normal plant development\\n(Narula and Igoshin,2010; van Heyningen and Bickmore,2013;\\nXiang et al., 2014). In addition, hotspots of distant eQTLs (trans-\\nregulation) are thought to comprise key regulators, which\\nregulate the expression of a wide range of development- and/or\\nmetabolism-related downstream genes (Li et al., 2020; Wang\\net al., 2018; Zhang et al., 2017).\\nRice (Oryza sativaL.) is a major cereal crop in Asia, as well as a'),\n",
              " Document(metadata={'source': '/content/eqtl_2_pages.pdf', 'page': 0}, page_content='major model crop for genetic improvement. Large amounts of\\nhigh-density genotype data and related high-throughput pheno-\\ntypic data of rice have been accumulated and associated with\\nmany important candidate genes through GWAS approaches\\n(Huang et al., 2012; Wang et al., 2015). GWAS can identify\\ncandidate associations by detecting variations across genotypes\\nand phenotypes, but cannot accurately identify candidate genes\\nand gene functions due to the decay of linkage disequilibrium\\nand limited gene annotation. In recent studies, some researchers\\nhave used methods such as transcriptome-wide association study\\n(TWAS) or Camoco that can combine genomic and transcriptomic\\ndata (Gusev et al., 2016; Schaefer et al., 2018) to more accu-\\nrately predict the candidate genes for phenotypic variations (Tang\\net al., 2021; Walker et al., 2019). eQTLs and co-localized QTLs\\nare equally important for dissecting the genetic architecture of'),\n",
              " Document(metadata={'source': '/content/eqtl_2_pages.pdf', 'page': 0}, page_content='ª 2022 The Authors.Plant Biotechnology Journalpublished by Society for Experimental Biology and The Association of Applied Biologists and John Wiley & Sons Ltd.\\nThis is an open access article under the terms of theCreative Commons Attribution-NonCommercial-NoDerivsLicense, which permits use and\\ndistribution in any medium, provided the original work is properly cited, the use is non-commercial and no modiﬁcations or adaptations are made.\\n2357\\nPlant Biotechnology Journal(2022) 20, pp. 2357–2371 doi: 10.1111/pbi.13912\\naab\\nPlant Biotechnology Journal\\nAssociation of Applled Blologists\\nSEB\\nOpen Access\\nSOCTETYTCAEXPERIMENTALSTOLOOY'),\n",
              " Document(metadata={'source': '/content/eqtl_2_pages.pdf', 'page': 1}, page_content='complex traits (Giambartolomei et al., 2014). For example, by\\ncombining GWAS with eQTL data, some studies of the growth\\nand phenotypic variations in poplar (Drostet al., 2010) identiﬁed\\nmultiple candidate genes for lettuce leaf color (Zhang\\net al., 2017), and a combined approach using eQTLs and\\nmetabolic QTLs revealed the history of metabolic breeding in\\ntomato (Zhuet al., 2018). Such studies are expected to enhance\\nthe comprehension of regulatory strategies of plants and facilitate\\na more accurate explanation of related mechanisms.\\nHere, we analysed the transcriptomes of ﬂag leaves at the\\nheading stage in 287 cultivated rice accessions. Subsequently,\\nwe identiﬁed 44 354 eQTLs regulating the expression of\\n13 201 genes, as well as 17 local and 96 distant eQTL\\nhotspots. A key transcription factor, bHLH026, was identiﬁed in\\na distant eQTL hotspot (HS002), which activates the expression\\nof downstream genes related to the synthesis of diterpenoid'),\n",
              " Document(metadata={'source': '/content/eqtl_2_pages.pdf', 'page': 1}, page_content='antitoxins. A transgenic assay revealed that bHLH026 affects\\nthe metabolic level of diterpenoid antitoxins and disease\\nresistance in rice. The ﬁndings will enhance our comprehen-\\nsion of the regulatory mechanisms of transcriptomic varia-\\ntions and the complex regulatory network of the rice genome,\\nand facilitate future genetic improvement of cultivated rice\\nvarieties.\\nResults\\nTranscriptome sequencing and exonic SNP identiﬁcation\\nA total of 287 accessions of O. sativa, which represent both\\nlandraces and elite germplasms from all over the world, were\\nselected from 533 minicore germplasms (Xieet al., 2015) for\\ngenome-wide analysis (Table S1). RNA was extracted from the\\ntop fully expanded leaves at the heading stage from each\\naccession. Transcriptome sequencing generated 11 billion paired-\\nend reads with an average of 38 million reads for each accession\\nafter the removal of low-quality reads. The obtained reads from\\neach accession were mapped to theOryza genome (MSU 7.0)'),\n",
              " Document(metadata={'source': '/content/eqtl_2_pages.pdf', 'page': 1}, page_content='(Kawahara et al., 2013) to quantify the gene expression levels,\\nand the average mapping rate of unique reads was 70.07%\\n(TableS2).\\nBased on the mapping results, 177 853 high-quality single\\nnucleotide polymorphisms (SNPs) were detected using a range of\\nﬁltering approaches. As expected, these SNPs were mostly\\nlocated within genes since they were derived from RNA-seq\\ndata. Then, the SNPs were used to analyse the population\\nstructure of the 287 accessions with Bayesian clustering software.\\nBy progressively increasing the number of clusters (K), the 287\\naccessions were divided into different subpopulations (Figure1a),\\nand the lowest CV error was observed at K = 9 (Figure S1).\\nIndica, japonica, andAus subpopulations were clearly observed at\\nK = 3. Indica was further divided into indica I and indica II\\nsubpopulations. When K = 6, japonica was further divided into\\ntropical japonica and temperate japonica subpopulations.\\nThe maximum-likelihood phylogenetic tree was established and'),\n",
              " Document(metadata={'source': '/content/eqtl_2_pages.pdf', 'page': 1}, page_content='the phylogenetic relationships among 287 accessions were\\nanalysed (Figure 1b). As a result, indica, japonica, and Aus\\nsubpopulations were located in different branches. Principal\\ncomponent analysis (PCA) also supported the phylogenetic\\nrelationships among different accessions and conﬁrmed the\\nclustering ofindica, japonica, andAus subpopulations (Figure1c).\\nThese results obtained using RNA-seq calling SNPs were consis-\\ntent with the results in previous studies which quantiﬁed the\\npopulation structure ofO. sativa, and conﬁrmed that our panel\\ncould capture abundant genetic variations of rice germplasm (Xie\\net al., 2015; Zhou et al., 2017).\\nGenome-wide mapping of eQTLs\\nExpression quantitative trait loci mapping is a powerful approach\\nto identifying the expression variation of each gene as well as\\nrevealing the regulatory network of genes for corresponding\\ntraits (Fu et al., 2013; Zhang et al., 2017). Here, a quantitative\\nanalysis of transcriptome data identiﬁed 23 325 genes expressed'),\n",
              " Document(metadata={'source': '/content/eqtl_2_pages.pdf', 'page': 1}, page_content='in leaves at the heading stage, accounting for about 41.8% of\\nthe total annotated genes (55 801) in the MSU 7.0 genome.\\nUsing the Fast-LMM software (Lippert et al., 2011), with\\ngenomic SNP data from 287 accessions, the transformed\\nexpression levels of each gene were used for association analysis\\nwith the SNPs in the genome. As a result, the expression of\\n14 562 genes was signiﬁcantly associated with at least one SNP\\nover the Bonferroni-corrected threshold (P = 5.43 9 10/C08;\\na = 0.05). SNPs associated with the same gene were clustered\\ninto one unique eQTL block including at least three SNPs, and\\nthe SNP with the lowestP-value was used to represent this\\nblock. A total of 44 354 eQTLs were identiﬁed from 13 201\\ngenes (Table S3).\\nAccording to the relative positions of genes and their corre-\\nsponding eQTLs in the genome, a strong diagonal enrichment\\ncould be observed (Figure2a). In addition, based on the relative\\ndistance between eQTLs and genes, all eQTLs could be divided'),\n",
              " Document(metadata={'source': '/content/eqtl_2_pages.pdf', 'page': 1}, page_content='into 19 549 local eQTLs (<100 kb) and 24 805 distant eQTLs\\n(>100 kb or on different chromosomes), and 74.6% of the genes\\nhad local eQTLs (Figure2a, d; Table S3). A comparison of theP-\\nvalues and explanation rate (r2) of SNPs in the association analysis\\nof local and distant eQTLs revealed that local eQTLs have a\\ngreater effect on gene expression variations than distant eQTLs\\n(two-sided Wilcoxon rank sum test,P-value <2.2 9 10/C016;\\nFigure 2b, c ). Therefore, local-regulatory effects may play a\\nleading role in determining the expression variations of most\\ngenes, which is consistent with previous ﬁndings in other\\norganisms (Wang et al., 2018; Zhang et al., 2017). In terms of\\neGenes (genes regulated by eQTL), 9853 eGenes were regulated\\nby local eQTLs; 8427 eGenes were regulated by distant eQTLs;\\nand 5079 eGenes (38.5%) were regulated by both local eQTLs\\nand distant eQTLs (Figure 2d). On average, each eGene corre-\\nsponded to 3.4 eQTLs, and only 4446 eGene (33.7%) were'),\n",
              " Document(metadata={'source': '/content/eqtl_2_pages.pdf', 'page': 1}, page_content='regulated by one single eQTL, while the majority of eGenes were\\nregulated by multiple eQTLs, suggesting that the expression of\\nmost genes in rice is under complex genetic regulation (Fig-\\nure2e). As for the location of local eQTLs relative to their eGenes,\\nmost of the lead SNPs were located in or around the gene body of\\nthe eGenes; interestingly, local eQTLs had two peaks in the 50-\\nand 3 0-regions, and the peak in the 5 0-region was more\\nprominent (Figure S2), indicating that the 50-sequences may play\\na more important role in regulating gene expression or stabilizing\\nmRNA. The distribution of local eQTLs in the 50 promoter region\\nwas observed. It was found that the distribution of local eQTLs\\ngradually decreased as they moved away from the transcription\\nstart site (TSS). About one-third of the local eQTLs fell in the ﬁrst\\n10 kb of the TSS, and 60.5% of them fell in the ﬁrst 30 kb of the\\nTSS (Figure 2f).\\nIdentiﬁcation of local eQTLs and co-regulated gene\\nclusters in rice.'),\n",
              " Document(metadata={'source': '/content/eqtl_2_pages.pdf', 'page': 1}, page_content='clusters in rice.\\nAs described above, local eQTLs usually have a greater impact on\\nthe expression variation of eGenes. To further explore the genes\\nª 2022 The Authors.Plant Biotechnology Journalpublished by Society for Experimental Biology and The Association of Applied Biologists and John Wiley & Sons Ltd.,20, 2357–2371\\nChang Liu et al.2358')]"
            ]
          },
          "metadata": {},
          "execution_count": 16
        }
      ]
    },
    {
      "cell_type": "code",
      "source": [
        "len(docs)\n",
        "\n",
        "# total 15 chunks formed because of recursivetextsplitter"
      ],
      "metadata": {
        "colab": {
          "base_uri": "https://localhost:8080/"
        },
        "id": "m_YAnAF32CEf",
        "outputId": "57627aa1-5795-4a55-eeb6-5c4b83fb262f"
      },
      "execution_count": null,
      "outputs": [
        {
          "output_type": "execute_result",
          "data": {
            "text/plain": [
              "15"
            ]
          },
          "metadata": {},
          "execution_count": 18
        }
      ]
    },
    {
      "cell_type": "code",
      "source": [
        "print(client.is_ready())"
      ],
      "metadata": {
        "colab": {
          "base_uri": "https://localhost:8080/"
        },
        "id": "f94NqdOt58JU",
        "outputId": "d2b0268f-7438-4ec0-e93e-1395eb4e045a"
      },
      "execution_count": null,
      "outputs": [
        {
          "output_type": "stream",
          "name": "stdout",
          "text": [
            "True\n"
          ]
        }
      ]
    },
    {
      "cell_type": "code",
      "source": [
        "!pip install langchain_weaviate"
      ],
      "metadata": {
        "colab": {
          "base_uri": "https://localhost:8080/"
        },
        "id": "p6LunzTj6Ws4",
        "outputId": "231c1156-035d-448a-eaa2-a144d0f7308f"
      },
      "execution_count": null,
      "outputs": [
        {
          "output_type": "stream",
          "name": "stdout",
          "text": [
            "Collecting langchain_weaviate\n",
            "  Downloading langchain_weaviate-0.0.3-py3-none-any.whl.metadata (2.7 kB)\n",
            "Requirement already satisfied: langchain-core<0.4,>=0.1.33 in /usr/local/lib/python3.10/dist-packages (from langchain_weaviate) (0.3.28)\n",
            "Requirement already satisfied: numpy<2.0.0,>=1.26.2 in /usr/local/lib/python3.10/dist-packages (from langchain_weaviate) (1.26.4)\n",
            "Collecting simsimd<5.0.0,>=3.6.1 (from langchain_weaviate)\n",
            "  Downloading simsimd-4.4.0-cp310-cp310-manylinux_2_28_x86_64.whl.metadata (31 kB)\n",
            "Requirement already satisfied: weaviate-client<5.0.0,>=4.0.0 in /usr/local/lib/python3.10/dist-packages (from langchain_weaviate) (4.10.2)\n",
            "Requirement already satisfied: PyYAML>=5.3 in /usr/local/lib/python3.10/dist-packages (from langchain-core<0.4,>=0.1.33->langchain_weaviate) (6.0.2)\n",
            "Requirement already satisfied: jsonpatch<2.0,>=1.33 in /usr/local/lib/python3.10/dist-packages (from langchain-core<0.4,>=0.1.33->langchain_weaviate) (1.33)\n",
            "Requirement already satisfied: langsmith<0.3,>=0.1.125 in /usr/local/lib/python3.10/dist-packages (from langchain-core<0.4,>=0.1.33->langchain_weaviate) (0.2.3)\n",
            "Requirement already satisfied: packaging<25,>=23.2 in /usr/local/lib/python3.10/dist-packages (from langchain-core<0.4,>=0.1.33->langchain_weaviate) (24.2)\n",
            "Requirement already satisfied: pydantic<3.0.0,>=2.5.2 in /usr/local/lib/python3.10/dist-packages (from langchain-core<0.4,>=0.1.33->langchain_weaviate) (2.10.3)\n",
            "Requirement already satisfied: tenacity!=8.4.0,<10.0.0,>=8.1.0 in /usr/local/lib/python3.10/dist-packages (from langchain-core<0.4,>=0.1.33->langchain_weaviate) (9.0.0)\n",
            "Requirement already satisfied: typing-extensions>=4.7 in /usr/local/lib/python3.10/dist-packages (from langchain-core<0.4,>=0.1.33->langchain_weaviate) (4.12.2)\n",
            "Requirement already satisfied: httpx<0.29.0,>=0.26.0 in /usr/local/lib/python3.10/dist-packages (from weaviate-client<5.0.0,>=4.0.0->langchain_weaviate) (0.28.1)\n",
            "Requirement already satisfied: validators==0.34.0 in /usr/local/lib/python3.10/dist-packages (from weaviate-client<5.0.0,>=4.0.0->langchain_weaviate) (0.34.0)\n",
            "Requirement already satisfied: authlib<1.3.2,>=1.2.1 in /usr/local/lib/python3.10/dist-packages (from weaviate-client<5.0.0,>=4.0.0->langchain_weaviate) (1.3.1)\n",
            "Requirement already satisfied: grpcio<2.0.0,>=1.66.2 in /usr/local/lib/python3.10/dist-packages (from weaviate-client<5.0.0,>=4.0.0->langchain_weaviate) (1.68.1)\n",
            "Requirement already satisfied: grpcio-tools<2.0.0,>=1.66.2 in /usr/local/lib/python3.10/dist-packages (from weaviate-client<5.0.0,>=4.0.0->langchain_weaviate) (1.68.1)\n",
            "Requirement already satisfied: grpcio-health-checking<2.0.0,>=1.66.2 in /usr/local/lib/python3.10/dist-packages (from weaviate-client<5.0.0,>=4.0.0->langchain_weaviate) (1.68.1)\n",
            "Requirement already satisfied: cryptography in /usr/local/lib/python3.10/dist-packages (from authlib<1.3.2,>=1.2.1->weaviate-client<5.0.0,>=4.0.0->langchain_weaviate) (43.0.3)\n",
            "Requirement already satisfied: protobuf<6.0dev,>=5.26.1 in /usr/local/lib/python3.10/dist-packages (from grpcio-health-checking<2.0.0,>=1.66.2->weaviate-client<5.0.0,>=4.0.0->langchain_weaviate) (5.29.2)\n",
            "Requirement already satisfied: setuptools in /usr/local/lib/python3.10/dist-packages (from grpcio-tools<2.0.0,>=1.66.2->weaviate-client<5.0.0,>=4.0.0->langchain_weaviate) (75.1.0)\n",
            "Requirement already satisfied: anyio in /usr/local/lib/python3.10/dist-packages (from httpx<0.29.0,>=0.26.0->weaviate-client<5.0.0,>=4.0.0->langchain_weaviate) (3.7.1)\n",
            "Requirement already satisfied: certifi in /usr/local/lib/python3.10/dist-packages (from httpx<0.29.0,>=0.26.0->weaviate-client<5.0.0,>=4.0.0->langchain_weaviate) (2024.12.14)\n",
            "Requirement already satisfied: httpcore==1.* in /usr/local/lib/python3.10/dist-packages (from httpx<0.29.0,>=0.26.0->weaviate-client<5.0.0,>=4.0.0->langchain_weaviate) (1.0.7)\n",
            "Requirement already satisfied: idna in /usr/local/lib/python3.10/dist-packages (from httpx<0.29.0,>=0.26.0->weaviate-client<5.0.0,>=4.0.0->langchain_weaviate) (3.10)\n",
            "Requirement already satisfied: h11<0.15,>=0.13 in /usr/local/lib/python3.10/dist-packages (from httpcore==1.*->httpx<0.29.0,>=0.26.0->weaviate-client<5.0.0,>=4.0.0->langchain_weaviate) (0.14.0)\n",
            "Requirement already satisfied: jsonpointer>=1.9 in /usr/local/lib/python3.10/dist-packages (from jsonpatch<2.0,>=1.33->langchain-core<0.4,>=0.1.33->langchain_weaviate) (3.0.0)\n",
            "Requirement already satisfied: orjson<4.0.0,>=3.9.14 in /usr/local/lib/python3.10/dist-packages (from langsmith<0.3,>=0.1.125->langchain-core<0.4,>=0.1.33->langchain_weaviate) (3.10.12)\n",
            "Requirement already satisfied: requests<3,>=2 in /usr/local/lib/python3.10/dist-packages (from langsmith<0.3,>=0.1.125->langchain-core<0.4,>=0.1.33->langchain_weaviate) (2.32.3)\n",
            "Requirement already satisfied: requests-toolbelt<2.0.0,>=1.0.0 in /usr/local/lib/python3.10/dist-packages (from langsmith<0.3,>=0.1.125->langchain-core<0.4,>=0.1.33->langchain_weaviate) (1.0.0)\n",
            "Requirement already satisfied: annotated-types>=0.6.0 in /usr/local/lib/python3.10/dist-packages (from pydantic<3.0.0,>=2.5.2->langchain-core<0.4,>=0.1.33->langchain_weaviate) (0.7.0)\n",
            "Requirement already satisfied: pydantic-core==2.27.1 in /usr/local/lib/python3.10/dist-packages (from pydantic<3.0.0,>=2.5.2->langchain-core<0.4,>=0.1.33->langchain_weaviate) (2.27.1)\n",
            "Requirement already satisfied: charset-normalizer<4,>=2 in /usr/local/lib/python3.10/dist-packages (from requests<3,>=2->langsmith<0.3,>=0.1.125->langchain-core<0.4,>=0.1.33->langchain_weaviate) (3.4.0)\n",
            "Requirement already satisfied: urllib3<3,>=1.21.1 in /usr/local/lib/python3.10/dist-packages (from requests<3,>=2->langsmith<0.3,>=0.1.125->langchain-core<0.4,>=0.1.33->langchain_weaviate) (2.2.3)\n",
            "Requirement already satisfied: sniffio>=1.1 in /usr/local/lib/python3.10/dist-packages (from anyio->httpx<0.29.0,>=0.26.0->weaviate-client<5.0.0,>=4.0.0->langchain_weaviate) (1.3.1)\n",
            "Requirement already satisfied: exceptiongroup in /usr/local/lib/python3.10/dist-packages (from anyio->httpx<0.29.0,>=0.26.0->weaviate-client<5.0.0,>=4.0.0->langchain_weaviate) (1.2.2)\n",
            "Requirement already satisfied: cffi>=1.12 in /usr/local/lib/python3.10/dist-packages (from cryptography->authlib<1.3.2,>=1.2.1->weaviate-client<5.0.0,>=4.0.0->langchain_weaviate) (1.17.1)\n",
            "Requirement already satisfied: pycparser in /usr/local/lib/python3.10/dist-packages (from cffi>=1.12->cryptography->authlib<1.3.2,>=1.2.1->weaviate-client<5.0.0,>=4.0.0->langchain_weaviate) (2.22)\n",
            "Downloading langchain_weaviate-0.0.3-py3-none-any.whl (10 kB)\n",
            "Downloading simsimd-4.4.0-cp310-cp310-manylinux_2_28_x86_64.whl (519 kB)\n",
            "\u001b[2K   \u001b[90m━━━━━━━━━━━━━━━━━━━━━━━━━━━━━━━━━━━━━━━━\u001b[0m \u001b[32m519.1/519.1 kB\u001b[0m \u001b[31m8.8 MB/s\u001b[0m eta \u001b[36m0:00:00\u001b[0m\n",
            "\u001b[?25hInstalling collected packages: simsimd, langchain_weaviate\n",
            "Successfully installed langchain_weaviate-0.0.3 simsimd-4.4.0\n"
          ]
        }
      ]
    },
    {
      "cell_type": "code",
      "source": [
        "from langchain_weaviate.vectorstores import WeaviateVectorStore\n",
        "\n",
        "db = WeaviateVectorStore.from_documents(docs, embeddings, client = client)\n"
      ],
      "metadata": {
        "id": "YaGmBCaE2Gx1"
      },
      "execution_count": null,
      "outputs": []
    },
    {
      "cell_type": "code",
      "source": [
        "db"
      ],
      "metadata": {
        "colab": {
          "base_uri": "https://localhost:8080/"
        },
        "id": "8D1825zU2gUQ",
        "outputId": "ca139506-de2c-49d1-f887-3b2bc1cb87ad"
      },
      "execution_count": null,
      "outputs": [
        {
          "output_type": "execute_result",
          "data": {
            "text/plain": [
              "<langchain_weaviate.vectorstores.WeaviateVectorStore at 0x791d9eb0f4c0>"
            ]
          },
          "metadata": {},
          "execution_count": 29
        }
      ]
    },
    {
      "cell_type": "code",
      "source": [
        "db.similarity_search(\"what is GWAS?\", k=3)"
      ],
      "metadata": {
        "colab": {
          "base_uri": "https://localhost:8080/"
        },
        "id": "mtOdCV_Z6wED",
        "outputId": "4f5b1c96-8d0a-48b5-e6f9-aa63e4807874"
      },
      "execution_count": null,
      "outputs": [
        {
          "output_type": "execute_result",
          "data": {
            "text/plain": [
              "[Document(metadata={'page': 0.0, 'source': '/content/eqtl_2_pages.pdf'}, page_content='major model crop for genetic improvement. Large amounts of\\nhigh-density genotype data and related high-throughput pheno-\\ntypic data of rice have been accumulated and associated with\\nmany important candidate genes through GWAS approaches\\n(Huang et al., 2012; Wang et al., 2015). GWAS can identify\\ncandidate associations by detecting variations across genotypes\\nand phenotypes, but cannot accurately identify candidate genes\\nand gene functions due to the decay of linkage disequilibrium\\nand limited gene annotation. In recent studies, some researchers\\nhave used methods such as transcriptome-wide association study\\n(TWAS) or Camoco that can combine genomic and transcriptomic\\ndata (Gusev et al., 2016; Schaefer et al., 2018) to more accu-\\nrately predict the candidate genes for phenotypic variations (Tang\\net al., 2021; Walker et al., 2019). eQTLs and co-localized QTLs\\nare equally important for dissecting the genetic architecture of'),\n",
              " Document(metadata={'page': 1.0, 'source': '/content/eqtl_2_pages.pdf'}, page_content='in leaves at the heading stage, accounting for about 41.8% of\\nthe total annotated genes (55 801) in the MSU 7.0 genome.\\nUsing the Fast-LMM software (Lippert et al., 2011), with\\ngenomic SNP data from 287 accessions, the transformed\\nexpression levels of each gene were used for association analysis\\nwith the SNPs in the genome. As a result, the expression of\\n14 562 genes was signiﬁcantly associated with at least one SNP\\nover the Bonferroni-corrected threshold (P = 5.43 9 10/C08;\\na = 0.05). SNPs associated with the same gene were clustered\\ninto one unique eQTL block including at least three SNPs, and\\nthe SNP with the lowestP-value was used to represent this\\nblock. A total of 44 354 eQTLs were identiﬁed from 13 201\\ngenes (Table S3).\\nAccording to the relative positions of genes and their corre-\\nsponding eQTLs in the genome, a strong diagonal enrichment\\ncould be observed (Figure2a). In addition, based on the relative\\ndistance between eQTLs and genes, all eQTLs could be divided'),\n",
              " Document(metadata={'page': 1.0, 'source': '/content/eqtl_2_pages.pdf'}, page_content='into 19 549 local eQTLs (<100 kb) and 24 805 distant eQTLs\\n(>100 kb or on different chromosomes), and 74.6% of the genes\\nhad local eQTLs (Figure2a, d; Table S3). A comparison of theP-\\nvalues and explanation rate (r2) of SNPs in the association analysis\\nof local and distant eQTLs revealed that local eQTLs have a\\ngreater effect on gene expression variations than distant eQTLs\\n(two-sided Wilcoxon rank sum test,P-value <2.2 9 10/C016;\\nFigure 2b, c ). Therefore, local-regulatory effects may play a\\nleading role in determining the expression variations of most\\ngenes, which is consistent with previous ﬁndings in other\\norganisms (Wang et al., 2018; Zhang et al., 2017). In terms of\\neGenes (genes regulated by eQTL), 9853 eGenes were regulated\\nby local eQTLs; 8427 eGenes were regulated by distant eQTLs;\\nand 5079 eGenes (38.5%) were regulated by both local eQTLs\\nand distant eQTLs (Figure 2d). On average, each eGene corre-\\nsponded to 3.4 eQTLs, and only 4446 eGene (33.7%) were')]"
            ]
          },
          "metadata": {},
          "execution_count": 33
        }
      ]
    },
    {
      "cell_type": "code",
      "source": [
        "db.similarity_search(\"what is GWAS?\", k=3)[0]"
      ],
      "metadata": {
        "colab": {
          "base_uri": "https://localhost:8080/"
        },
        "id": "0k0kDGN2611E",
        "outputId": "2ae6e4a1-4e2a-4de1-95e3-bdbeb599799c"
      },
      "execution_count": null,
      "outputs": [
        {
          "output_type": "execute_result",
          "data": {
            "text/plain": [
              "Document(metadata={'page': 0.0, 'source': '/content/eqtl_2_pages.pdf'}, page_content='major model crop for genetic improvement. Large amounts of\\nhigh-density genotype data and related high-throughput pheno-\\ntypic data of rice have been accumulated and associated with\\nmany important candidate genes through GWAS approaches\\n(Huang et al., 2012; Wang et al., 2015). GWAS can identify\\ncandidate associations by detecting variations across genotypes\\nand phenotypes, but cannot accurately identify candidate genes\\nand gene functions due to the decay of linkage disequilibrium\\nand limited gene annotation. In recent studies, some researchers\\nhave used methods such as transcriptome-wide association study\\n(TWAS) or Camoco that can combine genomic and transcriptomic\\ndata (Gusev et al., 2016; Schaefer et al., 2018) to more accu-\\nrately predict the candidate genes for phenotypic variations (Tang\\net al., 2021; Walker et al., 2019). eQTLs and co-localized QTLs\\nare equally important for dissecting the genetic architecture of')"
            ]
          },
          "metadata": {},
          "execution_count": 36
        }
      ]
    },
    {
      "cell_type": "code",
      "source": [
        "print(db.similarity_search(\"what is GWAS?\", k=3)[0].page_content)"
      ],
      "metadata": {
        "colab": {
          "base_uri": "https://localhost:8080/"
        },
        "id": "KRUM5sSY6mNg",
        "outputId": "fa30b2c5-3d5c-4487-ed55-008b3351e51c"
      },
      "execution_count": null,
      "outputs": [
        {
          "output_type": "stream",
          "name": "stdout",
          "text": [
            "major model crop for genetic improvement. Large amounts of\n",
            "high-density genotype data and related high-throughput pheno-\n",
            "typic data of rice have been accumulated and associated with\n",
            "many important candidate genes through GWAS approaches\n",
            "(Huang et al., 2012; Wang et al., 2015). GWAS can identify\n",
            "candidate associations by detecting variations across genotypes\n",
            "and phenotypes, but cannot accurately identify candidate genes\n",
            "and gene functions due to the decay of linkage disequilibrium\n",
            "and limited gene annotation. In recent studies, some researchers\n",
            "have used methods such as transcriptome-wide association study\n",
            "(TWAS) or Camoco that can combine genomic and transcriptomic\n",
            "data (Gusev et al., 2016; Schaefer et al., 2018) to more accu-\n",
            "rately predict the candidate genes for phenotypic variations (Tang\n",
            "et al., 2021; Walker et al., 2019). eQTLs and co-localized QTLs\n",
            "are equally important for dissecting the genetic architecture of\n"
          ]
        }
      ]
    },
    {
      "cell_type": "code",
      "source": [
        "print(db.similarity_search(\"what is GWAS?\", k=3)[1].page_content)"
      ],
      "metadata": {
        "colab": {
          "base_uri": "https://localhost:8080/"
        },
        "id": "rWtDX30965d2",
        "outputId": "4e3c4648-5ec2-4912-939a-50af84760c9e"
      },
      "execution_count": null,
      "outputs": [
        {
          "output_type": "stream",
          "name": "stdout",
          "text": [
            "in leaves at the heading stage, accounting for about 41.8% of\n",
            "the total annotated genes (55 801) in the MSU 7.0 genome.\n",
            "Using the Fast-LMM software (Lippert et al., 2011), with\n",
            "genomic SNP data from 287 accessions, the transformed\n",
            "expression levels of each gene were used for association analysis\n",
            "with the SNPs in the genome. As a result, the expression of\n",
            "14 562 genes was signiﬁcantly associated with at least one SNP\n",
            "over the Bonferroni-corrected threshold (P = 5.43 9 10/C08;\n",
            "a = 0.05). SNPs associated with the same gene were clustered\n",
            "into one unique eQTL block including at least three SNPs, and\n",
            "the SNP with the lowestP-value was used to represent this\n",
            "block. A total of 44 354 eQTLs were identiﬁed from 13 201\n",
            "genes (Table S3).\n",
            "According to the relative positions of genes and their corre-\n",
            "sponding eQTLs in the genome, a strong diagonal enrichment\n",
            "could be observed (Figure2a). In addition, based on the relative\n",
            "distance between eQTLs and genes, all eQTLs could be divided\n"
          ]
        }
      ]
    },
    {
      "cell_type": "code",
      "source": [
        "\n",
        "from langchain.prompts import ChatPromptTemplate\n",
        "\n",
        "template=\"\"\"You are an assistant for question-answering tasks.\n",
        "Use the following pieces of retrieved context to answer the question.\n",
        "If you don't know the answer, just say that you don't know.\n",
        "Use ten sentences maximum and keep the answer concise.\n",
        "Question: {question}\n",
        "Context: {context}\n",
        "Answer:\n",
        "\"\"\""
      ],
      "metadata": {
        "id": "rB3PeAqA7VYT"
      },
      "execution_count": null,
      "outputs": []
    },
    {
      "cell_type": "code",
      "source": [
        "prompt = ChatPromptTemplate.from_template(template)"
      ],
      "metadata": {
        "id": "VHA_s2Ap7jRC"
      },
      "execution_count": null,
      "outputs": []
    },
    {
      "cell_type": "code",
      "source": [
        "prompt"
      ],
      "metadata": {
        "colab": {
          "base_uri": "https://localhost:8080/"
        },
        "id": "Tb0x3H-y7lqo",
        "outputId": "be673eed-bb08-4f89-9620-cf8352ff880e"
      },
      "execution_count": null,
      "outputs": [
        {
          "output_type": "execute_result",
          "data": {
            "text/plain": [
              "ChatPromptTemplate(input_variables=['context', 'question'], input_types={}, partial_variables={}, messages=[HumanMessagePromptTemplate(prompt=PromptTemplate(input_variables=['context', 'question'], input_types={}, partial_variables={}, template=\"You are an assistant for question-answering tasks.\\nUse the following pieces of retrieved context to answer the question.\\nIf you don't know the answer, just say that you don't know.\\nUse ten sentences maximum and keep the answer concise.\\nQuestion: {question}\\nContext: {context}\\nAnswer:\\n\"), additional_kwargs={})])"
            ]
          },
          "metadata": {},
          "execution_count": 42
        }
      ]
    },
    {
      "cell_type": "code",
      "source": [
        "from langchain import HuggingFaceHub"
      ],
      "metadata": {
        "id": "eO6rwBM37oXR"
      },
      "execution_count": null,
      "outputs": []
    },
    {
      "cell_type": "code",
      "source": [
        "huggingfacehub_api_token = userdata.get('HUGGINGFACE_API_KEY')"
      ],
      "metadata": {
        "id": "i7IOlfzT7qh2"
      },
      "execution_count": null,
      "outputs": []
    },
    {
      "cell_type": "code",
      "source": [
        "# huggingfacehub_api_token"
      ],
      "metadata": {
        "id": "icZS_OB5_6mI"
      },
      "execution_count": null,
      "outputs": []
    },
    {
      "cell_type": "code",
      "source": [
        "# access huggingface model without downloading them locally, through api.\n",
        "\n",
        "model = HuggingFaceHub(\n",
        "    huggingfacehub_api_token = huggingfacehub_api_token,\n",
        "    repo_id = \"mistralai/Mistral-7B-Instruct-v0.1\",\n",
        "    model_kwargs={\"temperature\":1, \"max_length\":180}\n",
        ")"
      ],
      "metadata": {
        "id": "tLcA5yZ8_9Ya"
      },
      "execution_count": null,
      "outputs": []
    },
    {
      "cell_type": "code",
      "source": [
        "from langchain.schema.runnable import RunnablePassthrough\n",
        "from langchain.schema.output_parser import StrOutputParser"
      ],
      "metadata": {
        "id": "WlOlmnfNAcHk"
      },
      "execution_count": null,
      "outputs": []
    },
    {
      "cell_type": "code",
      "source": [
        "output_parser = StrOutputParser()"
      ],
      "metadata": {
        "id": "gq8ROoIZAj7R"
      },
      "execution_count": null,
      "outputs": []
    },
    {
      "cell_type": "code",
      "source": [
        "retriever = db.as_retriever()"
      ],
      "metadata": {
        "id": "qzc-A9whAleU"
      },
      "execution_count": null,
      "outputs": []
    },
    {
      "cell_type": "code",
      "source": [
        "rag_chain = (\n",
        "    {\"context\": retriever,  \"question\": RunnablePassthrough()}\n",
        "    | prompt\n",
        "    | model\n",
        "    | output_parser\n",
        ")"
      ],
      "metadata": {
        "id": "J6UCXf4bAoV0"
      },
      "execution_count": null,
      "outputs": []
    },
    {
      "cell_type": "code",
      "source": [
        "rag_chain.invoke(\"what is Summary of the paper\")"
      ],
      "metadata": {
        "colab": {
          "base_uri": "https://localhost:8080/",
          "height": 529
        },
        "id": "BYGXaAlwE6yo",
        "outputId": "b32008fc-1095-4a35-a8ff-c51791cd736b"
      },
      "execution_count": null,
      "outputs": [
        {
          "output_type": "error",
          "ename": "HfHubHTTPError",
          "evalue": "429 Client Error: Too Many Requests for url: https://api-inference.huggingface.co/models/mistralai/Mistral-7B-Instruct-v0.1 (Request ID: DDn_PIJCaDFy1J2XHL_Hx)\n\nRate limit reached. You reached free usage limit (reset daily). Please subscribe to PRO or Enterprise Hub to get a higher limit: https://hf.co/pricing",
          "traceback": [
            "\u001b[0;31m---------------------------------------------------------------------------\u001b[0m",
            "\u001b[0;31mHTTPError\u001b[0m                                 Traceback (most recent call last)",
            "\u001b[0;32m/usr/local/lib/python3.10/dist-packages/huggingface_hub/utils/_http.py\u001b[0m in \u001b[0;36mhf_raise_for_status\u001b[0;34m(response, endpoint_name)\u001b[0m\n\u001b[1;32m    405\u001b[0m     \u001b[0;32mtry\u001b[0m\u001b[0;34m:\u001b[0m\u001b[0;34m\u001b[0m\u001b[0;34m\u001b[0m\u001b[0m\n\u001b[0;32m--> 406\u001b[0;31m         \u001b[0mresponse\u001b[0m\u001b[0;34m.\u001b[0m\u001b[0mraise_for_status\u001b[0m\u001b[0;34m(\u001b[0m\u001b[0;34m)\u001b[0m\u001b[0;34m\u001b[0m\u001b[0;34m\u001b[0m\u001b[0m\n\u001b[0m\u001b[1;32m    407\u001b[0m     \u001b[0;32mexcept\u001b[0m \u001b[0mHTTPError\u001b[0m \u001b[0;32mas\u001b[0m \u001b[0me\u001b[0m\u001b[0;34m:\u001b[0m\u001b[0;34m\u001b[0m\u001b[0;34m\u001b[0m\u001b[0m\n",
            "\u001b[0;32m/usr/local/lib/python3.10/dist-packages/requests/models.py\u001b[0m in \u001b[0;36mraise_for_status\u001b[0;34m(self)\u001b[0m\n\u001b[1;32m   1023\u001b[0m         \u001b[0;32mif\u001b[0m \u001b[0mhttp_error_msg\u001b[0m\u001b[0;34m:\u001b[0m\u001b[0;34m\u001b[0m\u001b[0;34m\u001b[0m\u001b[0m\n\u001b[0;32m-> 1024\u001b[0;31m             \u001b[0;32mraise\u001b[0m \u001b[0mHTTPError\u001b[0m\u001b[0;34m(\u001b[0m\u001b[0mhttp_error_msg\u001b[0m\u001b[0;34m,\u001b[0m \u001b[0mresponse\u001b[0m\u001b[0;34m=\u001b[0m\u001b[0mself\u001b[0m\u001b[0;34m)\u001b[0m\u001b[0;34m\u001b[0m\u001b[0;34m\u001b[0m\u001b[0m\n\u001b[0m\u001b[1;32m   1025\u001b[0m \u001b[0;34m\u001b[0m\u001b[0m\n",
            "\u001b[0;31mHTTPError\u001b[0m: 429 Client Error: Too Many Requests for url: https://api-inference.huggingface.co/models/mistralai/Mistral-7B-Instruct-v0.1",
            "\nThe above exception was the direct cause of the following exception:\n",
            "\u001b[0;31mHfHubHTTPError\u001b[0m                            Traceback (most recent call last)",
            "\u001b[0;32m<ipython-input-66-77b4737ad005>\u001b[0m in \u001b[0;36m<cell line: 1>\u001b[0;34m()\u001b[0m\n\u001b[0;32m----> 1\u001b[0;31m \u001b[0mrag_chain\u001b[0m\u001b[0;34m.\u001b[0m\u001b[0minvoke\u001b[0m\u001b[0;34m(\u001b[0m\u001b[0;34m\"what is Summary of the paper\"\u001b[0m\u001b[0;34m)\u001b[0m\u001b[0;34m\u001b[0m\u001b[0;34m\u001b[0m\u001b[0m\n\u001b[0m",
            "\u001b[0;32m/usr/local/lib/python3.10/dist-packages/langchain_core/runnables/base.py\u001b[0m in \u001b[0;36minvoke\u001b[0;34m(self, input, config, **kwargs)\u001b[0m\n\u001b[1;32m   3022\u001b[0m                     \u001b[0minput\u001b[0m \u001b[0;34m=\u001b[0m \u001b[0mcontext\u001b[0m\u001b[0;34m.\u001b[0m\u001b[0mrun\u001b[0m\u001b[0;34m(\u001b[0m\u001b[0mstep\u001b[0m\u001b[0;34m.\u001b[0m\u001b[0minvoke\u001b[0m\u001b[0;34m,\u001b[0m \u001b[0minput\u001b[0m\u001b[0;34m,\u001b[0m \u001b[0mconfig\u001b[0m\u001b[0;34m,\u001b[0m \u001b[0;34m**\u001b[0m\u001b[0mkwargs\u001b[0m\u001b[0;34m)\u001b[0m\u001b[0;34m\u001b[0m\u001b[0;34m\u001b[0m\u001b[0m\n\u001b[1;32m   3023\u001b[0m                 \u001b[0;32melse\u001b[0m\u001b[0;34m:\u001b[0m\u001b[0;34m\u001b[0m\u001b[0;34m\u001b[0m\u001b[0m\n\u001b[0;32m-> 3024\u001b[0;31m                     \u001b[0minput\u001b[0m \u001b[0;34m=\u001b[0m \u001b[0mcontext\u001b[0m\u001b[0;34m.\u001b[0m\u001b[0mrun\u001b[0m\u001b[0;34m(\u001b[0m\u001b[0mstep\u001b[0m\u001b[0;34m.\u001b[0m\u001b[0minvoke\u001b[0m\u001b[0;34m,\u001b[0m \u001b[0minput\u001b[0m\u001b[0;34m,\u001b[0m \u001b[0mconfig\u001b[0m\u001b[0;34m)\u001b[0m\u001b[0;34m\u001b[0m\u001b[0;34m\u001b[0m\u001b[0m\n\u001b[0m\u001b[1;32m   3025\u001b[0m         \u001b[0;31m# finish the root run\u001b[0m\u001b[0;34m\u001b[0m\u001b[0;34m\u001b[0m\u001b[0m\n\u001b[1;32m   3026\u001b[0m         \u001b[0;32mexcept\u001b[0m \u001b[0mBaseException\u001b[0m \u001b[0;32mas\u001b[0m \u001b[0me\u001b[0m\u001b[0;34m:\u001b[0m\u001b[0;34m\u001b[0m\u001b[0;34m\u001b[0m\u001b[0m\n",
            "\u001b[0;32m/usr/local/lib/python3.10/dist-packages/langchain_core/language_models/llms.py\u001b[0m in \u001b[0;36minvoke\u001b[0;34m(self, input, config, stop, **kwargs)\u001b[0m\n\u001b[1;32m    388\u001b[0m         \u001b[0mconfig\u001b[0m \u001b[0;34m=\u001b[0m \u001b[0mensure_config\u001b[0m\u001b[0;34m(\u001b[0m\u001b[0mconfig\u001b[0m\u001b[0;34m)\u001b[0m\u001b[0;34m\u001b[0m\u001b[0;34m\u001b[0m\u001b[0m\n\u001b[1;32m    389\u001b[0m         return (\n\u001b[0;32m--> 390\u001b[0;31m             self.generate_prompt(\n\u001b[0m\u001b[1;32m    391\u001b[0m                 \u001b[0;34m[\u001b[0m\u001b[0mself\u001b[0m\u001b[0;34m.\u001b[0m\u001b[0m_convert_input\u001b[0m\u001b[0;34m(\u001b[0m\u001b[0minput\u001b[0m\u001b[0;34m)\u001b[0m\u001b[0;34m]\u001b[0m\u001b[0;34m,\u001b[0m\u001b[0;34m\u001b[0m\u001b[0;34m\u001b[0m\u001b[0m\n\u001b[1;32m    392\u001b[0m                 \u001b[0mstop\u001b[0m\u001b[0;34m=\u001b[0m\u001b[0mstop\u001b[0m\u001b[0;34m,\u001b[0m\u001b[0;34m\u001b[0m\u001b[0;34m\u001b[0m\u001b[0m\n",
            "\u001b[0;32m/usr/local/lib/python3.10/dist-packages/langchain_core/language_models/llms.py\u001b[0m in \u001b[0;36mgenerate_prompt\u001b[0;34m(self, prompts, stop, callbacks, **kwargs)\u001b[0m\n\u001b[1;32m    753\u001b[0m     ) -> LLMResult:\n\u001b[1;32m    754\u001b[0m         \u001b[0mprompt_strings\u001b[0m \u001b[0;34m=\u001b[0m \u001b[0;34m[\u001b[0m\u001b[0mp\u001b[0m\u001b[0;34m.\u001b[0m\u001b[0mto_string\u001b[0m\u001b[0;34m(\u001b[0m\u001b[0;34m)\u001b[0m \u001b[0;32mfor\u001b[0m \u001b[0mp\u001b[0m \u001b[0;32min\u001b[0m \u001b[0mprompts\u001b[0m\u001b[0;34m]\u001b[0m\u001b[0;34m\u001b[0m\u001b[0;34m\u001b[0m\u001b[0m\n\u001b[0;32m--> 755\u001b[0;31m         \u001b[0;32mreturn\u001b[0m \u001b[0mself\u001b[0m\u001b[0;34m.\u001b[0m\u001b[0mgenerate\u001b[0m\u001b[0;34m(\u001b[0m\u001b[0mprompt_strings\u001b[0m\u001b[0;34m,\u001b[0m \u001b[0mstop\u001b[0m\u001b[0;34m=\u001b[0m\u001b[0mstop\u001b[0m\u001b[0;34m,\u001b[0m \u001b[0mcallbacks\u001b[0m\u001b[0;34m=\u001b[0m\u001b[0mcallbacks\u001b[0m\u001b[0;34m,\u001b[0m \u001b[0;34m**\u001b[0m\u001b[0mkwargs\u001b[0m\u001b[0;34m)\u001b[0m\u001b[0;34m\u001b[0m\u001b[0;34m\u001b[0m\u001b[0m\n\u001b[0m\u001b[1;32m    756\u001b[0m \u001b[0;34m\u001b[0m\u001b[0m\n\u001b[1;32m    757\u001b[0m     async def agenerate_prompt(\n",
            "\u001b[0;32m/usr/local/lib/python3.10/dist-packages/langchain_core/language_models/llms.py\u001b[0m in \u001b[0;36mgenerate\u001b[0;34m(self, prompts, stop, callbacks, tags, metadata, run_name, run_id, **kwargs)\u001b[0m\n\u001b[1;32m    948\u001b[0m                 )\n\u001b[1;32m    949\u001b[0m             ]\n\u001b[0;32m--> 950\u001b[0;31m             output = self._generate_helper(\n\u001b[0m\u001b[1;32m    951\u001b[0m                 \u001b[0mprompts\u001b[0m\u001b[0;34m,\u001b[0m \u001b[0mstop\u001b[0m\u001b[0;34m,\u001b[0m \u001b[0mrun_managers\u001b[0m\u001b[0;34m,\u001b[0m \u001b[0mbool\u001b[0m\u001b[0;34m(\u001b[0m\u001b[0mnew_arg_supported\u001b[0m\u001b[0;34m)\u001b[0m\u001b[0;34m,\u001b[0m \u001b[0;34m**\u001b[0m\u001b[0mkwargs\u001b[0m\u001b[0;34m\u001b[0m\u001b[0;34m\u001b[0m\u001b[0m\n\u001b[1;32m    952\u001b[0m             )\n",
            "\u001b[0;32m/usr/local/lib/python3.10/dist-packages/langchain_core/language_models/llms.py\u001b[0m in \u001b[0;36m_generate_helper\u001b[0;34m(self, prompts, stop, run_managers, new_arg_supported, **kwargs)\u001b[0m\n\u001b[1;32m    790\u001b[0m             \u001b[0;32mfor\u001b[0m \u001b[0mrun_manager\u001b[0m \u001b[0;32min\u001b[0m \u001b[0mrun_managers\u001b[0m\u001b[0;34m:\u001b[0m\u001b[0;34m\u001b[0m\u001b[0;34m\u001b[0m\u001b[0m\n\u001b[1;32m    791\u001b[0m                 \u001b[0mrun_manager\u001b[0m\u001b[0;34m.\u001b[0m\u001b[0mon_llm_error\u001b[0m\u001b[0;34m(\u001b[0m\u001b[0me\u001b[0m\u001b[0;34m,\u001b[0m \u001b[0mresponse\u001b[0m\u001b[0;34m=\u001b[0m\u001b[0mLLMResult\u001b[0m\u001b[0;34m(\u001b[0m\u001b[0mgenerations\u001b[0m\u001b[0;34m=\u001b[0m\u001b[0;34m[\u001b[0m\u001b[0;34m]\u001b[0m\u001b[0;34m)\u001b[0m\u001b[0;34m)\u001b[0m\u001b[0;34m\u001b[0m\u001b[0;34m\u001b[0m\u001b[0m\n\u001b[0;32m--> 792\u001b[0;31m             \u001b[0;32mraise\u001b[0m \u001b[0me\u001b[0m\u001b[0;34m\u001b[0m\u001b[0;34m\u001b[0m\u001b[0m\n\u001b[0m\u001b[1;32m    793\u001b[0m         \u001b[0mflattened_outputs\u001b[0m \u001b[0;34m=\u001b[0m \u001b[0moutput\u001b[0m\u001b[0;34m.\u001b[0m\u001b[0mflatten\u001b[0m\u001b[0;34m(\u001b[0m\u001b[0;34m)\u001b[0m\u001b[0;34m\u001b[0m\u001b[0;34m\u001b[0m\u001b[0m\n\u001b[1;32m    794\u001b[0m         \u001b[0;32mfor\u001b[0m \u001b[0mmanager\u001b[0m\u001b[0;34m,\u001b[0m \u001b[0mflattened_output\u001b[0m \u001b[0;32min\u001b[0m \u001b[0mzip\u001b[0m\u001b[0;34m(\u001b[0m\u001b[0mrun_managers\u001b[0m\u001b[0;34m,\u001b[0m \u001b[0mflattened_outputs\u001b[0m\u001b[0;34m)\u001b[0m\u001b[0;34m:\u001b[0m\u001b[0;34m\u001b[0m\u001b[0;34m\u001b[0m\u001b[0m\n",
            "\u001b[0;32m/usr/local/lib/python3.10/dist-packages/langchain_core/language_models/llms.py\u001b[0m in \u001b[0;36m_generate_helper\u001b[0;34m(self, prompts, stop, run_managers, new_arg_supported, **kwargs)\u001b[0m\n\u001b[1;32m    777\u001b[0m         \u001b[0;32mtry\u001b[0m\u001b[0;34m:\u001b[0m\u001b[0;34m\u001b[0m\u001b[0;34m\u001b[0m\u001b[0m\n\u001b[1;32m    778\u001b[0m             output = (\n\u001b[0;32m--> 779\u001b[0;31m                 self._generate(\n\u001b[0m\u001b[1;32m    780\u001b[0m                     \u001b[0mprompts\u001b[0m\u001b[0;34m,\u001b[0m\u001b[0;34m\u001b[0m\u001b[0;34m\u001b[0m\u001b[0m\n\u001b[1;32m    781\u001b[0m                     \u001b[0mstop\u001b[0m\u001b[0;34m=\u001b[0m\u001b[0mstop\u001b[0m\u001b[0;34m,\u001b[0m\u001b[0;34m\u001b[0m\u001b[0;34m\u001b[0m\u001b[0m\n",
            "\u001b[0;32m/usr/local/lib/python3.10/dist-packages/langchain_core/language_models/llms.py\u001b[0m in \u001b[0;36m_generate\u001b[0;34m(self, prompts, stop, run_manager, **kwargs)\u001b[0m\n\u001b[1;32m   1500\u001b[0m         \u001b[0;32mfor\u001b[0m \u001b[0mprompt\u001b[0m \u001b[0;32min\u001b[0m \u001b[0mprompts\u001b[0m\u001b[0;34m:\u001b[0m\u001b[0;34m\u001b[0m\u001b[0;34m\u001b[0m\u001b[0m\n\u001b[1;32m   1501\u001b[0m             text = (\n\u001b[0;32m-> 1502\u001b[0;31m                 \u001b[0mself\u001b[0m\u001b[0;34m.\u001b[0m\u001b[0m_call\u001b[0m\u001b[0;34m(\u001b[0m\u001b[0mprompt\u001b[0m\u001b[0;34m,\u001b[0m \u001b[0mstop\u001b[0m\u001b[0;34m=\u001b[0m\u001b[0mstop\u001b[0m\u001b[0;34m,\u001b[0m \u001b[0mrun_manager\u001b[0m\u001b[0;34m=\u001b[0m\u001b[0mrun_manager\u001b[0m\u001b[0;34m,\u001b[0m \u001b[0;34m**\u001b[0m\u001b[0mkwargs\u001b[0m\u001b[0;34m)\u001b[0m\u001b[0;34m\u001b[0m\u001b[0;34m\u001b[0m\u001b[0m\n\u001b[0m\u001b[1;32m   1503\u001b[0m                 \u001b[0;32mif\u001b[0m \u001b[0mnew_arg_supported\u001b[0m\u001b[0;34m\u001b[0m\u001b[0;34m\u001b[0m\u001b[0m\n\u001b[1;32m   1504\u001b[0m                 \u001b[0;32melse\u001b[0m \u001b[0mself\u001b[0m\u001b[0;34m.\u001b[0m\u001b[0m_call\u001b[0m\u001b[0;34m(\u001b[0m\u001b[0mprompt\u001b[0m\u001b[0;34m,\u001b[0m \u001b[0mstop\u001b[0m\u001b[0;34m=\u001b[0m\u001b[0mstop\u001b[0m\u001b[0;34m,\u001b[0m \u001b[0;34m**\u001b[0m\u001b[0mkwargs\u001b[0m\u001b[0;34m)\u001b[0m\u001b[0;34m\u001b[0m\u001b[0;34m\u001b[0m\u001b[0m\n",
            "\u001b[0;32m/usr/local/lib/python3.10/dist-packages/langchain_community/llms/huggingface_hub.py\u001b[0m in \u001b[0;36m_call\u001b[0;34m(self, prompt, stop, run_manager, **kwargs)\u001b[0m\n\u001b[1;32m    136\u001b[0m         \u001b[0mparameters\u001b[0m \u001b[0;34m=\u001b[0m \u001b[0;34m{\u001b[0m\u001b[0;34m**\u001b[0m\u001b[0m_model_kwargs\u001b[0m\u001b[0;34m,\u001b[0m \u001b[0;34m**\u001b[0m\u001b[0mkwargs\u001b[0m\u001b[0;34m}\u001b[0m\u001b[0;34m\u001b[0m\u001b[0;34m\u001b[0m\u001b[0m\n\u001b[1;32m    137\u001b[0m \u001b[0;34m\u001b[0m\u001b[0m\n\u001b[0;32m--> 138\u001b[0;31m         response = self.client.post(\n\u001b[0m\u001b[1;32m    139\u001b[0m             \u001b[0mjson\u001b[0m\u001b[0;34m=\u001b[0m\u001b[0;34m{\u001b[0m\u001b[0;34m\"inputs\"\u001b[0m\u001b[0;34m:\u001b[0m \u001b[0mprompt\u001b[0m\u001b[0;34m,\u001b[0m \u001b[0;34m\"parameters\"\u001b[0m\u001b[0;34m:\u001b[0m \u001b[0mparameters\u001b[0m\u001b[0;34m}\u001b[0m\u001b[0;34m,\u001b[0m \u001b[0mtask\u001b[0m\u001b[0;34m=\u001b[0m\u001b[0mself\u001b[0m\u001b[0;34m.\u001b[0m\u001b[0mtask\u001b[0m\u001b[0;34m\u001b[0m\u001b[0;34m\u001b[0m\u001b[0m\n\u001b[1;32m    140\u001b[0m         )\n",
            "\u001b[0;32m/usr/local/lib/python3.10/dist-packages/huggingface_hub/inference/_client.py\u001b[0m in \u001b[0;36mpost\u001b[0;34m(self, json, data, model, task, stream)\u001b[0m\n\u001b[1;32m    304\u001b[0m \u001b[0;34m\u001b[0m\u001b[0m\n\u001b[1;32m    305\u001b[0m             \u001b[0;32mtry\u001b[0m\u001b[0;34m:\u001b[0m\u001b[0;34m\u001b[0m\u001b[0;34m\u001b[0m\u001b[0m\n\u001b[0;32m--> 306\u001b[0;31m                 \u001b[0mhf_raise_for_status\u001b[0m\u001b[0;34m(\u001b[0m\u001b[0mresponse\u001b[0m\u001b[0;34m)\u001b[0m\u001b[0;34m\u001b[0m\u001b[0;34m\u001b[0m\u001b[0m\n\u001b[0m\u001b[1;32m    307\u001b[0m                 \u001b[0;32mreturn\u001b[0m \u001b[0mresponse\u001b[0m\u001b[0;34m.\u001b[0m\u001b[0miter_lines\u001b[0m\u001b[0;34m(\u001b[0m\u001b[0;34m)\u001b[0m \u001b[0;32mif\u001b[0m \u001b[0mstream\u001b[0m \u001b[0;32melse\u001b[0m \u001b[0mresponse\u001b[0m\u001b[0;34m.\u001b[0m\u001b[0mcontent\u001b[0m\u001b[0;34m\u001b[0m\u001b[0;34m\u001b[0m\u001b[0m\n\u001b[1;32m    308\u001b[0m             \u001b[0;32mexcept\u001b[0m \u001b[0mHTTPError\u001b[0m \u001b[0;32mas\u001b[0m \u001b[0merror\u001b[0m\u001b[0;34m:\u001b[0m\u001b[0;34m\u001b[0m\u001b[0;34m\u001b[0m\u001b[0m\n",
            "\u001b[0;32m/usr/local/lib/python3.10/dist-packages/huggingface_hub/utils/_http.py\u001b[0m in \u001b[0;36mhf_raise_for_status\u001b[0;34m(response, endpoint_name)\u001b[0m\n\u001b[1;32m    475\u001b[0m         \u001b[0;31m# Convert `HTTPError` into a `HfHubHTTPError` to display request information\u001b[0m\u001b[0;34m\u001b[0m\u001b[0;34m\u001b[0m\u001b[0m\n\u001b[1;32m    476\u001b[0m         \u001b[0;31m# as well (request id and/or server error message)\u001b[0m\u001b[0;34m\u001b[0m\u001b[0;34m\u001b[0m\u001b[0m\n\u001b[0;32m--> 477\u001b[0;31m         \u001b[0;32mraise\u001b[0m \u001b[0m_format\u001b[0m\u001b[0;34m(\u001b[0m\u001b[0mHfHubHTTPError\u001b[0m\u001b[0;34m,\u001b[0m \u001b[0mstr\u001b[0m\u001b[0;34m(\u001b[0m\u001b[0me\u001b[0m\u001b[0;34m)\u001b[0m\u001b[0;34m,\u001b[0m \u001b[0mresponse\u001b[0m\u001b[0;34m)\u001b[0m \u001b[0;32mfrom\u001b[0m \u001b[0me\u001b[0m\u001b[0;34m\u001b[0m\u001b[0;34m\u001b[0m\u001b[0m\n\u001b[0m\u001b[1;32m    478\u001b[0m \u001b[0;34m\u001b[0m\u001b[0m\n\u001b[1;32m    479\u001b[0m \u001b[0;34m\u001b[0m\u001b[0m\n",
            "\u001b[0;31mHfHubHTTPError\u001b[0m: 429 Client Error: Too Many Requests for url: https://api-inference.huggingface.co/models/mistralai/Mistral-7B-Instruct-v0.1 (Request ID: DDn_PIJCaDFy1J2XHL_Hx)\n\nRate limit reached. You reached free usage limit (reset daily). Please subscribe to PRO or Enterprise Hub to get a higher limit: https://hf.co/pricing"
          ]
        }
      ]
    },
    {
      "cell_type": "markdown",
      "source": [
        "Noice, huggingface api ki limit khatam hi gyi, nhi t vhi pr direct answer aa jata"
      ],
      "metadata": {
        "id": "ZFAqNPb6I6m8"
      }
    },
    {
      "cell_type": "code",
      "source": [],
      "metadata": {
        "id": "TQikq2OlHtdK"
      },
      "execution_count": null,
      "outputs": []
    },
    {
      "cell_type": "code",
      "source": [],
      "metadata": {
        "id": "gYRtBflZJLm6"
      },
      "execution_count": null,
      "outputs": []
    }
  ]
}